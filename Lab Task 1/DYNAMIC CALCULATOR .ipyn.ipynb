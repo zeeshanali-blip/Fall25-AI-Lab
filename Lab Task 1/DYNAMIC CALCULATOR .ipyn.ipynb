{
 "cells": [
  {
   "cell_type": "markdown",
   "id": "c92af0db",
   "metadata": {},
   "source": [
    "** dynamic calculator **"
   ]
  },
  {
   "cell_type": "markdown",
   "id": "8f8c8090",
   "metadata": {},
   "source": []
  },
  {
   "cell_type": "code",
   "execution_count": null,
   "id": "7f78d3d1",
   "metadata": {},
   "outputs": [
    {
     "name": "stdout",
     "output_type": "stream",
     "text": [
      "Simple Calculator\n",
      "Enter 'exit' to quit.\n",
      "\n",
      "Result: 9\n"
     ]
    }
   ],
   "source": [
    "def calculator():\n",
    "    print(\"Simple Calculator\")\n",
    "    print(\"Enter 'exit' to quit.\\n\")\n",
    "\n",
    "    while True:\n",
    "        user_input = input(\"Enter calculation (e.g., 4 + 5): \")\n",
    "        if user_input.lower() == 'exit':\n",
    "            print(\"Goodbye!\")\n",
    "            break\n",
    "        try:\n",
    "            result = eval(user_input)\n",
    "            print(\"Result:\", result)\n",
    "        except:\n",
    "            print(\"Invalid input. Try again.\")\n",
    "\n",
    "calculator()"
   ]
  },
  {
   "cell_type": "code",
   "execution_count": null,
   "id": "5c5b25aa",
   "metadata": {},
   "outputs": [],
   "source": []
  }
 ],
 "metadata": {
  "kernelspec": {
   "display_name": "Python 3",
   "language": "python",
   "name": "python3"
  },
  "language_info": {
   "codemirror_mode": {
    "name": "ipython",
    "version": 3
   },
   "file_extension": ".py",
   "mimetype": "text/x-python",
   "name": "python",
   "nbconvert_exporter": "python",
   "pygments_lexer": "ipython3",
   "version": "3.13.1"
  }
 },
 "nbformat": 4,
 "nbformat_minor": 5
}
