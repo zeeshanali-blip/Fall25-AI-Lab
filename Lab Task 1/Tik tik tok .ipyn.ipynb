{
 "cells": [
  {
   "cell_type": "markdown",
   "id": "51a733da",
   "metadata": {},
   "source": [
    "**tic tac tok**"
   ]
  },
  {
   "cell_type": "code",
   "execution_count": null,
   "id": "25269a0a",
   "metadata": {},
   "outputs": [
    {
     "name": "stdout",
     "output_type": "stream",
     "text": [
      "  |   |  \n",
      "-----\n",
      "  |   |  \n",
      "-----\n",
      "  |   |  \n",
      "-----\n",
      "Player X's move\n",
      "  |   |  \n",
      "-----\n",
      "  |   |  \n",
      "-----\n",
      "  | X |  \n",
      "-----\n",
      "Player O's move\n",
      "Cell taken. Try again.\n",
      "  |   |  \n",
      "-----\n",
      "  |   |  \n",
      "-----\n",
      "  | X |  \n",
      "-----\n",
      "Player O's move\n"
     ]
    }
   ],
   "source": [
    "def print_board(board):\n",
    "    for row in board:\n",
    "        print(\" | \".join(row))\n",
    "        print(\"-\" * 5)\n",
    "\n",
    "def check_win(board, player):\n",
    "    for i in range(3):\n",
    "        if all([cell == player for cell in board[i]]) or \\\n",
    "           all([board[j][i] == player for j in range(3)]):\n",
    "            return True\n",
    "    if all([board[i][i] == player for i in range(3)]) or \\\n",
    "       all([board[i][2 - i] == player for i in range(3)]):\n",
    "        return True\n",
    "    return False\n",
    "\n",
    "def tic_tac_toe():\n",
    "    board = [[\" \"]*3 for _ in range(3)]\n",
    "    current = \"X\"\n",
    "\n",
    "    for turn in range(9):\n",
    "        print_board(board)\n",
    "        print(f\"Player {current}'s move\")\n",
    "        row = int(input(\"Row (0-2): \"))\n",
    "        col = int(input(\"Col (0-2): \"))\n",
    "\n",
    "        if board[row][col] != \" \":\n",
    "            print(\"Cell taken. Try again.\")\n",
    "            continue\n",
    "\n",
    "        board[row][col] = current\n",
    "\n",
    "        if check_win(board, current):\n",
    "            print_board(board)\n",
    "            print(f\"Player {current} wins!\")\n",
    "            return\n",
    "\n",
    "        current = \"O\" if current == \"X\" else \"X\"\n",
    "\n",
    "    print_board(board)\n",
    "    print(\"It's a draw!\")\n",
    "\n",
    "tic_tac_toe()"
   ]
  },
  {
   "cell_type": "code",
   "execution_count": null,
   "id": "3d38f136",
   "metadata": {},
   "outputs": [],
   "source": []
  }
 ],
 "metadata": {
  "kernelspec": {
   "display_name": "Python 3",
   "language": "python",
   "name": "python3"
  },
  "language_info": {
   "codemirror_mode": {
    "name": "ipython",
    "version": 3
   },
   "file_extension": ".py",
   "mimetype": "text/x-python",
   "name": "python",
   "nbconvert_exporter": "python",
   "pygments_lexer": "ipython3",
   "version": "3.13.1"
  }
 },
 "nbformat": 4,
 "nbformat_minor": 5
}
