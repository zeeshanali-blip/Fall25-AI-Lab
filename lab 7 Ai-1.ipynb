{
 "cells": [
  {
   "cell_type": "markdown",
   "id": "69285bb2",
   "metadata": {},
   "source": [
    "__name : zeeshan ali haider__\n",
    "\n",
    "__class : BSAIM(3 - A)__\n",
    "\n",
    "__roll no : SU92-BSAIM-F24-008__ "
   ]
  },
  {
   "cell_type": "markdown",
   "id": "b2f4a01f",
   "metadata": {},
   "source": [
    "***LAB 7***"
   ]
  },
  {
   "cell_type": "code",
   "execution_count": 7,
   "id": "487e5093",
   "metadata": {},
   "outputs": [
    {
     "name": "stdout",
     "output_type": "stream",
     "text": [
      "Path found: ['A', 'B', 'D']\n"
     ]
    },
    {
     "data": {
      "text/plain": [
       "['A', 'B', 'D']"
      ]
     },
     "execution_count": 7,
     "metadata": {},
     "output_type": "execute_result"
    }
   ],
   "source": [
    "class Graph:\n",
    "    def __init__(self, adjacency_list):\n",
    "        self.adjacency_list = adjacency_list\n",
    "\n",
    "    def get_neighbor(self, node):\n",
    "        return self.adjacency_list[node]\n",
    "\n",
    "    def H(self, node):\n",
    "        H = {\n",
    "            'A': 1,\n",
    "            'B': 1,\n",
    "            'C': 1,\n",
    "            'D': 1\n",
    "        }\n",
    "        return H[node]\n",
    "\n",
    "    def astar_algo(self, start_node, stop_node):\n",
    "        open_list = set([start_node])\n",
    "        closed_list = set([])\n",
    "\n",
    "        g = {}\n",
    "        g[start_node] = 0\n",
    "        parents = {}\n",
    "        parents[start_node] = start_node\n",
    "\n",
    "        while len(open_list) > 0:\n",
    "            n = None\n",
    "            for v in open_list:\n",
    "                if n is None or g[v] + self.H(v) < g[n] + self.H(n):\n",
    "                    n = v\n",
    "            if n is None:\n",
    "                print(\"Path does not exist because no path was found!\")  \n",
    "                return None\n",
    "            if n == stop_node:\n",
    "                path = []\n",
    "\n",
    "                while parents[n] != n:\n",
    "                    path.append(n)\n",
    "                    n = parents[n]\n",
    "                path.append(start_node)\n",
    "                path.reverse()\n",
    "                print(\"Path found:\", path)\n",
    "                return path\n",
    "            for (m, weight) in self.get_neighbor(n):\n",
    "                if m not in open_list and m not in closed_list:\n",
    "                    open_list.add(m)\n",
    "                    parents[m] = n\n",
    "                    g[m] = g[n] + weight\n",
    "                else:\n",
    "                    if g[m] > g[n] + weight:\n",
    "                        g[m] = g[n] + weight\n",
    "                        parents[m] = n\n",
    "\n",
    "                        if m in closed_list:\n",
    "                            closed_list.remove(m)\n",
    "                            open_list.add(m)\n",
    "            open_list.remove(n)\n",
    "            closed_list.add(n)\n",
    "        print(\"Path does not exist!\") \n",
    "        return None\n",
    "\n",
    "adjacent_list = {\n",
    "    'A': [('B', 1), ('C', 3), ('D', 7)],\n",
    "    'B': [('D', 5)],\n",
    "    'C': [('D', 12)]\n",
    "}\n",
    "\n",
    "graph = Graph(adjacent_list)\n",
    "graph.astar_algo('A', 'D')\n"
   ]
  },
  {
   "cell_type": "code",
   "execution_count": null,
   "id": "123f7e80",
   "metadata": {},
   "outputs": [],
   "source": []
  }
 ],
 "metadata": {
  "kernelspec": {
   "display_name": "Python 3",
   "language": "python",
   "name": "python3"
  },
  "language_info": {
   "codemirror_mode": {
    "name": "ipython",
    "version": 3
   },
   "file_extension": ".py",
   "mimetype": "text/x-python",
   "name": "python",
   "nbconvert_exporter": "python",
   "pygments_lexer": "ipython3",
   "version": "3.11.9"
  }
 },
 "nbformat": 4,
 "nbformat_minor": 5
}
