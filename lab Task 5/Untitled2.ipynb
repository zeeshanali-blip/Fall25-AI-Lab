{
 "cells": [
  {
   "cell_type": "markdown",
   "id": "7ed4fefa-f152-4cba-8b43-c44ac0e29e22",
   "metadata": {},
   "source": [
    "## Task 1"
   ]
  },
  {
   "cell_type": "code",
   "execution_count": 5,
   "id": "6e032368-792a-4834-a1da-915550ee742e",
   "metadata": {},
   "outputs": [
    {
     "name": "stdout",
     "output_type": "stream",
     "text": [
      "DFS using Stack:\n",
      "0 2 1 4 3 "
     ]
    }
   ],
   "source": [
    "def dfs_stack(graph, start):\n",
    "    visited = set()      \n",
    "    stack = [start]      \n",
    "\n",
    "    while stack:\n",
    "        current = stack.pop() \n",
    "        if current not in visited:\n",
    "            print(current, end=\" \")  \n",
    "            visited.add(current)\n",
    "            for neighbor in(graph[current]):\n",
    "                if neighbor not in visited:\n",
    "                    stack.append(neighbor)\n",
    "                    \n",
    "graph = {'0': ['1', '2'],\n",
    "    '1': ['3', '4'],\n",
    "    '2': [],\n",
    "    '3': [],\n",
    "    '4': []\n",
    "}\n",
    "\n",
    "print(\"DFS using Stack:\")\n",
    "dfs_stack(graph, '0')\n"
   ]
  },
  {
   "cell_type": "markdown",
   "id": "b30ac263-18a3-4f5d-ba9d-81e4b87c26cd",
   "metadata": {},
   "source": [
    "## Task 2 (IMPLIMENTATION)"
   ]
  },
  {
   "cell_type": "markdown",
   "id": "4ef64b72-f2b2-4588-b3a9-943e119b1290",
   "metadata": {},
   "source": [
    "-Research\n",
    "1. Inorder Traversal (Left → Root → Right)\n",
    "\n",
    "Process:\n",
    "\n",
    "Visit the left subtree.\n",
    "\n",
    "Visit the root node.\n",
    "\n",
    "Visit the right subtree.\n",
    "\n",
    "Example Output: 4 2 5 1 3\n",
    "\n",
    "Commonly used in Binary Search Trees to get sorted values.\n",
    "\n",
    "2. Preorder Traversal (Root → Left → Right)\n",
    "\n",
    "Process:\n",
    "\n",
    "Visit the root node.\n",
    "\n",
    "Visit the left subtree.\n",
    "\n",
    "Visit the right subtree.\n",
    "\n",
    "Example Output: 1 2 4 5 3\n",
    "\n",
    "Useful for tree copying or expression trees.\n",
    "\n",
    "3. Postorder Traversal (Left → Right → Root)\n",
    "\n",
    "Process:\n",
    "\n",
    "Visit the left subtree.\n",
    "\n",
    "Visit the right subtree.\n",
    "\n",
    "Visit the root node.\n",
    "\n",
    "Example Output: 4 5 2 3 1\n",
    "\n",
    "Commonly used for deleting a tree or postfix expression evaluation."
   ]
  },
  {
   "cell_type": "code",
   "execution_count": 61,
   "id": "3f643589-5372-4b56-b233-32148d46143e",
   "metadata": {},
   "outputs": [
    {
     "name": "stdout",
     "output_type": "stream",
     "text": [
      "Inorder Traversal: 4 2 5 1 3 \n",
      "Preorder Traversal: 1 2 4 5 3 \n",
      "Postorder Traversal: 4 5 2 3 1 "
     ]
    }
   ],
   "source": [
    "tree = {\n",
    "    '1': ['2', '3'],\n",
    "    '2': ['4', '5'],\n",
    "    '3': [None, None],\n",
    "    '4': [None, None],\n",
    "    '5': [None, None]\n",
    "}\n",
    "\n",
    "def inorder(tree, root):\n",
    "    if root is None:\n",
    "        return\n",
    "    left, right = tree[root]\n",
    "    inorder(tree, left)\n",
    "    print(root, end=\" \")\n",
    "    inorder(tree, right)\n",
    "\n",
    "def preorder(tree, root):\n",
    "    if root is None:\n",
    "        return\n",
    "    left, right = tree[root]\n",
    "    print(root, end=\" \")\n",
    "    preorder(tree, left)\n",
    "    preorder(tree, right)\n",
    "\n",
    "def postorder(tree, root):\n",
    "    if root is None:\n",
    "        return\n",
    "    left, right = tree[root]\n",
    "    postorder(tree, left)\n",
    "    postorder(tree, right)\n",
    "    print(root, end=\" \")\n",
    "print(\"Inorder Traversal: \", end=\"\")\n",
    "inorder(tree, '1')\n",
    "\n",
    "print(\"\\nPreorder Traversal: \", end=\"\")\n",
    "preorder(tree, '1')\n",
    "\n",
    "print(\"\\nPostorder Traversal: \", end=\"\")\n",
    "postorder(tree, '1')\n"
   ]
  },
  {
   "cell_type": "code",
   "execution_count": 149,
   "id": "9b5f4bf5-a354-440f-8dd2-802c4cb6348a",
   "metadata": {},
   "outputs": [
    {
     "name": "stdout",
     "output_type": "stream",
     "text": [
      "DFS using Stack (Limit = A):\n",
      "ABDECF"
     ]
    }
   ],
   "source": [
    "def dfs_stack(graph, start, limit):\n",
    "    visited = set()      \n",
    "    stack = [start]      \n",
    "    count = 0 \n",
    "\n",
    "    while stack:\n",
    "        current = stack.pop()\n",
    "        if limit is not None and count == limit:\n",
    "            break\n",
    "\n",
    "        if current not in visited:\n",
    "            print(current, end=\"\")  \n",
    "            visited.add(current)\n",
    "            count += 1 \n",
    "            for neighbor in reversed(tree[current]):\n",
    "                if neighbor not in visited:\n",
    "                    stack.append(neighbor)\n",
    "tree = {\n",
    "    'A': ['B', 'C'],\n",
    "    'B': ['D','E'],\n",
    "    'C': ['F'],\n",
    "    'D': [],\n",
    "    'E': [],\n",
    "    'F': [],\n",
    "    'G': [],\n",
    "}\n",
    "print(\"DFS using Stack (Limit = A):\")\n",
    "dfs_stack(tree, 'A', limit= 'B')\n"
   ]
  },
  {
   "cell_type": "code",
   "execution_count": null,
   "id": "df06cb62-5f6d-4f5a-8fd2-6ab52961cad6",
   "metadata": {},
   "outputs": [],
   "source": []
  },
  {
   "cell_type": "code",
   "execution_count": null,
   "id": "3dcb1ecc-7861-4c23-90df-4f7bf6181575",
   "metadata": {},
   "outputs": [],
   "source": []
  }
 ],
 "metadata": {
  "kernelspec": {
   "display_name": "Python 3 (ipykernel)",
   "language": "python",
   "name": "python3"
  },
  "language_info": {
   "codemirror_mode": {
    "name": "ipython",
    "version": 3
   },
   "file_extension": ".py",
   "mimetype": "text/x-python",
   "name": "python",
   "nbconvert_exporter": "python",
   "pygments_lexer": "ipython3",
   "version": "3.12.4"
  }
 },
 "nbformat": 4,
 "nbformat_minor": 5
}
