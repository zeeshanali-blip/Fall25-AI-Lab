{
 "cells": [
  {
   "cell_type": "markdown",
   "id": "5baa9248",
   "metadata": {},
   "source": [
    "##### Name **Zeeshan Ali**\n",
    "##### **Lab Task 03**"
   ]
  },
  {
   "cell_type": "markdown",
   "id": "8ca90dfe",
   "metadata": {},
   "source": [
    "##### • Model-Based Reflex Agent\n",
    "##### • This agent not only checks the current temperature but also remembers the previous action to avoid turning the heater on or off unnecessarily."
   ]
  },
  {
   "cell_type": "code",
   "execution_count": 1,
   "id": "910c8924",
   "metadata": {},
   "outputs": [
    {
     "name": "stdout",
     "output_type": "stream",
     "text": [
      "Living Room -> 18 °C, Turn on heater\n",
      "Bedroom -> 22 °C, Turn off heater\n",
      "Kitchen -> 20 °C, Turn on heater\n",
      "Bathroom -> 24 °C, Turn off heater\n"
     ]
    }
   ],
   "source": [
    "# Lab 3 - Model Based Reflex Agent\n",
    "\n",
    "class ModelBasedReflexAgent:\n",
    "    def __init__(self, desired_temp):\n",
    "        self.desired_temp = desired_temp\n",
    "        self.last_action = None   # to remember what happened before\n",
    "\n",
    "    def check(self, current_temp):\n",
    "        # decide action\n",
    "        if current_temp < self.desired_temp:\n",
    "            action = \"Turn on heater\"\n",
    "        else:\n",
    "            action = \"Turn off heater\"\n",
    "\n",
    "        # if action is same as before, then no need to repeat\n",
    "        if action == self.last_action:\n",
    "            result = \"No change\"\n",
    "        else:\n",
    "            result = action\n",
    "            self.last_action = action   # update memory\n",
    "\n",
    "        return result\n",
    "\n",
    "\n",
    "# rooms with their current temperatures\n",
    "rooms = {\n",
    "    \"Living Room\": 18,\n",
    "    \"Bedroom\": 22,\n",
    "    \"Kitchen\": 20,\n",
    "    \"Bathroom\": 24\n",
    "}\n",
    "\n",
    "# desired temperature\n",
    "desired = 22\n",
    "agent = ModelBasedReflexAgent(desired)\n",
    "\n",
    "# run for each room\n",
    "for room, temp in rooms.items():\n",
    "    action = agent.check(temp)\n",
    "    print(room, \"->\", temp, \"°C,\", action)\n"
   ]
  }
 ],
 "metadata": {
  "kernelspec": {
   "display_name": "Python 3 (ipykernel)",
   "language": "python",
   "name": "python3"
  },
  "language_info": {
   "codemirror_mode": {
    "name": "ipython",
    "version": 3
   },
   "file_extension": ".py",
   "mimetype": "text/x-python",
   "name": "python",
   "nbconvert_exporter": "python",
   "pygments_lexer": "ipython3",
   "version": "3.12.10"
  }
 },
 "nbformat": 4,
 "nbformat_minor": 5
}
