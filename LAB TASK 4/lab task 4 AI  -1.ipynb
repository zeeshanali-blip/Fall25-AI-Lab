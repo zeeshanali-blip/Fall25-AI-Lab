{
 "cells": [
  {
   "cell_type": "markdown",
   "id": "4dd2717f",
   "metadata": {},
   "source": [
    "***ZEESHAN ALI HAIDER***\n",
    "\n",
    "***BSAI (3 - A)***\n",
    "\n",
    "***SU92-BSAIM-F24-008***"
   ]
  },
  {
   "cell_type": "markdown",
   "id": "826b05af",
   "metadata": {},
   "source": [
    "__Question no 1:__"
   ]
  },
  {
   "cell_type": "code",
   "execution_count": 1,
   "id": "2e8997b4",
   "metadata": {},
   "outputs": [
    {
     "name": "stdout",
     "output_type": "stream",
     "text": [
      "invalid atm card!\n"
     ]
    }
   ],
   "source": [
    "Sum_odd_numbers = 0\n",
    "Sum_even_numbers = 0\n",
    "total = 0\n",
    "\n",
    "atm_number = input(\"Enter your Debit card number: \")\n",
    "atm_number = atm_number.replace(\"-\", \"\")\n",
    "atm_number = atm_number.replace(\" \", \"\")\n",
    "atm_number = atm_number[::-1]\n",
    "\n",
    "for i in atm_number[::2]:\n",
    "    Sum_odd_numbers += int(i)\n",
    "\n",
    "for i in atm_number[1::2]:\n",
    "    i = int(i) * 2\n",
    "    \n",
    "    if i >= 10:\n",
    "        Sum_even_numbers += (1 + (i % 10))\n",
    "    else:\n",
    "        Sum_even_numbers += i\n",
    "\n",
    "total = Sum_odd_numbers + Sum_even_numbers\n",
    "if total % 10 == 0:\n",
    "    print(\"Valid\")\n",
    "else:\n",
    "    print(\"invalid atm card!\")"
   ]
  },
  {
   "cell_type": "markdown",
   "id": "03e0a571",
   "metadata": {},
   "source": [
    "__Question no 2:__"
   ]
  },
  {
   "cell_type": "code",
   "execution_count": 2,
   "id": "ac38d3d9",
   "metadata": {},
   "outputs": [
    {
     "name": "stderr",
     "output_type": "stream",
     "text": [
      "<>:2: SyntaxWarning: invalid escape sequence '\\|'\n",
      "<>:2: SyntaxWarning: invalid escape sequence '\\|'\n",
      "C:\\Users\\YOGA\\AppData\\Local\\Temp\\ipykernel_5744\\192020796.py:2: SyntaxWarning: invalid escape sequence '\\|'\n",
      "  puncts = \"\"\",./?:;<>''@~#{}[]+=_-()*&^%$£\"!¬`\\|\"\"\"\n"
     ]
    },
    {
     "name": "stdout",
     "output_type": "stream",
     "text": [
      "Without punctuations: my nme zeeshan  ali haider\n"
     ]
    }
   ],
   "source": [
    "def remove_punctuations(text):\n",
    "    puncts = \"\"\",./?:;<>''@~#{}[]+=_-()*&^%$£\"!¬`\\|\"\"\"\n",
    "    result = \"\"\n",
    "    for ch in text:\n",
    "        if ch not in puncts:\n",
    "            result += ch\n",
    "    return result\n",
    "\n",
    "sentence = input(\"Enter a sentence or word: \")\n",
    "clear_output= remove_punctuations(sentence)\n",
    "print(\"Without punctuations:\", clear_output)\n"
   ]
  },
  {
   "cell_type": "markdown",
   "id": "dd18f5db",
   "metadata": {},
   "source": [
    "__Question no 3:__"
   ]
  },
  {
   "cell_type": "code",
   "execution_count": 3,
   "id": "131aa8de",
   "metadata": {},
   "outputs": [
    {
     "name": "stdout",
     "output_type": "stream",
     "text": [
      "Sorted output: ['class', 'club', 'im', 'member', 'my', 'of']\n"
     ]
    }
   ],
   "source": [
    "def ascii_sort(words):\n",
    "    length = len(words)\n",
    "    for i in range(length - 1):\n",
    "        for j in range(length - i - 1):\n",
    "            if words[j] > words[j + 1]:\n",
    "                words[j], words[j + 1] = words[j + 1], words[j]\n",
    "    return words\n",
    "\n",
    "text = input(\"Enter a sentence: \")\n",
    "parts = text.split()\n",
    "\n",
    "sorted_words = ascii_sort(parts)\n",
    "\n",
    "print(\"Sorted output:\", sorted_words)"
   ]
  },
  {
   "cell_type": "code",
   "execution_count": null,
   "id": "c216335a",
   "metadata": {},
   "outputs": [],
   "source": []
  }
 ],
 "metadata": {
  "kernelspec": {
   "display_name": "base",
   "language": "python",
   "name": "python3"
  },
  "language_info": {
   "codemirror_mode": {
    "name": "ipython",
    "version": 3
   },
   "file_extension": ".py",
   "mimetype": "text/x-python",
   "name": "python",
   "nbconvert_exporter": "python",
   "pygments_lexer": "ipython3",
   "version": "3.12.7"
  }
 },
 "nbformat": 4,
 "nbformat_minor": 5
}
