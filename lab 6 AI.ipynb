{
 "cells": [
  {
   "cell_type": "markdown",
   "id": "f79a1670",
   "metadata": {},
   "source": [
    "***zeeshan ali haider***\n",
    "\n",
    "***Bsaim (3 - A)***\n",
    "\n",
    "***008***"
   ]
  },
  {
   "cell_type": "markdown",
   "id": "119f4314",
   "metadata": {},
   "source": [
    "__lab 6__"
   ]
  },
  {
   "cell_type": "code",
   "execution_count": 1,
   "id": "965cf6a7",
   "metadata": {},
   "outputs": [
    {
     "name": "stdout",
     "output_type": "stream",
     "text": [
      "current level:  0  | visited node: A\n",
      "current level:  1  | visited node: B\n",
      "current level:  2  | visited node: L\n",
      "current level:  1  | visited node: C\n",
      "current level:  2  | visited node: F\n",
      "current level:  3  | visited node: I\n",
      "current level:  3  | visited node: K\n",
      "current level:  4  | visited node: M\n",
      "\n",
      " goal not found within the given depth limit. \n"
     ]
    }
   ],
   "source": [
    "graph = {\n",
    "    'A': ['B', 'C'],\n",
    "    'B': ['D', 'E'],\n",
    "    'C': ['F'],\n",
    "    'D': ['G', 'H'],\n",
    "    'E': [],\n",
    "    'F': ['I', 'K'],\n",
    "    'G': [],\n",
    "    'B': ['L'],\n",
    "    'I': [],\n",
    "    'K':['M'],\n",
    "    'L':[],\n",
    "    'M':[]\n",
    "}\n",
    " \n",
    "def dls(start, goal, path, level, limit):\n",
    "    print(\"current level: \", level, \" | visited node:\", start)\n",
    "    path.append(start)\n",
    "    \n",
    "    if start == goal:\n",
    "        return True\n",
    "    \n",
    "    if level == limit:\n",
    "        path.pop()\n",
    "        return False \n",
    "    \n",
    "    for node in graph[start]:\n",
    "        if dls(node, goal, path, level + 1, limit):\n",
    "            return True\n",
    "        \n",
    "    path.pop()\n",
    "    return False \n",
    "  \n",
    "start_node = 'A'\n",
    "goal_node = input(\"enter goal node: \").strip().upper()\n",
    "depth_limit = int(input(\"enter depth limit: \"))\n",
    "\n",
    "path_taken = []\n",
    "found = dls(start_node, goal_node, path_taken, 0, depth_limit)\n",
    "\n",
    "if found: \n",
    "    print(\"\\ngoal found ! path: \", \"->\".join(path_taken))\n",
    "else: \n",
    "    print(\"\\n goal not found within the given depth limit. \") "
   ]
  },
  {
   "cell_type": "code",
   "execution_count": null,
   "id": "bcc3e66c",
   "metadata": {},
   "outputs": [],
   "source": []
  }
 ],
 "metadata": {
  "kernelspec": {
   "display_name": "Python 3",
   "language": "python",
   "name": "python3"
  },
  "language_info": {
   "codemirror_mode": {
    "name": "ipython",
    "version": 3
   },
   "file_extension": ".py",
   "mimetype": "text/x-python",
   "name": "python",
   "nbconvert_exporter": "python",
   "pygments_lexer": "ipython3",
   "version": "3.11.9"
  }
 },
 "nbformat": 4,
 "nbformat_minor": 5
}
