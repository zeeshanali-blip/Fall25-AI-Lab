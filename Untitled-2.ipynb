{
 "cells": [
  {
   "cell_type": "markdown",
   "id": "eb16c823",
   "metadata": {},
   "source": [
    "***Name : Zeeshan ali haider***\n",
    "\n",
    "***class : BSAI(3 - A)***\n",
    "\n",
    "***ROLL no: SU92-BSAI-F24-008***\n",
    " "
   ]
  },
  {
   "cell_type": "markdown",
   "id": "afed6713",
   "metadata": {},
   "source": [
    "___TASK 8___"
   ]
  },
  {
   "cell_type": "code",
   "execution_count": 1,
   "id": "fe78d6bb",
   "metadata": {},
   "outputs": [
    {
     "name": "stdout",
     "output_type": "stream",
     "text": [
      "the optiomal value: 5\n"
     ]
    }
   ],
   "source": [
    "import math \n",
    "def minimax(curdepth, nodeindex, ismiximizingplayer, scores, targetdepth):\n",
    "    if curdepth ==   targetdepth:\n",
    "        return scores[nodeindex]\n",
    "    \n",
    "    \n",
    "    if ismiximizingplayer:\n",
    "        return max(\n",
    "            minimax(curdepth + 1, nodeindex * 2, False, scores, targetdepth),\n",
    "            minimax(curdepth + 1, nodeindex * 2 + 1, False,scores, targetdepth)\n",
    "        )\n",
    "    \n",
    "    else:\n",
    "        return  min(\n",
    "            minimax(curdepth + 1, nodeindex * 2, True, scores,  targetdepth), \n",
    "            minimax(curdepth + 1, nodeindex * 2 + 1, True, scores,  targetdepth)\n",
    "        )\n",
    "\n",
    "scores = [3, 5, 2, 9, 3, 5, 2, 9]\n",
    "treedepth  = int(math.log(len(scores), 2))\n",
    "\n",
    "print(\"the optiomal value:\", minimax(0, 0, True, scores, treedepth))"
   ]
  },
  {
   "cell_type": "code",
   "execution_count": null,
   "id": "4274c12f",
   "metadata": {},
   "outputs": [],
   "source": []
  }
 ],
 "metadata": {
  "kernelspec": {
   "display_name": "Python 3",
   "language": "python",
   "name": "python3"
  },
  "language_info": {
   "codemirror_mode": {
    "name": "ipython",
    "version": 3
   },
   "file_extension": ".py",
   "mimetype": "text/x-python",
   "name": "python",
   "nbconvert_exporter": "python",
   "pygments_lexer": "ipython3",
   "version": "3.11.9"
  }
 },
 "nbformat": 4,
 "nbformat_minor": 5
}
